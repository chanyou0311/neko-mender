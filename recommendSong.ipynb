{
 "cells": [
  {
   "cell_type": "code",
   "execution_count": 350,
   "metadata": {},
   "outputs": [],
   "source": [
    "model = word2vec.Word2Vec.load(\"./latest-ja-word2vec-gensim-model/word2vec.gensim.model\")"
   ]
  },
  {
   "cell_type": "code",
   "execution_count": 1002,
   "metadata": {},
   "outputs": [
    {
     "name": "stdout",
     "output_type": "stream",
     "text": [
      "<requests_oauthlib.oauth1_session.OAuth1Session object at 0x00000175CEC347F0>\n"
     ]
    }
   ],
   "source": [
    "#coding: UTF-8\n",
    "from requests_oauthlib import OAuth1Session\n",
    "import json\n",
    "import twitkey\n",
    "import requests\n",
    "import sys, urllib\n",
    "import os.path\n",
    "import time\n",
    "from wordcloud import WordCloud\n",
    "import numpy as np\n",
    "\n",
    "twitter = OAuth1Session(twitkey.twkey[\"CONSUMER_KEY\"], twitkey.twkey[\"CONSUMER_SECRET\"], twitkey.twkey[\"ACCESS_TOKEN\"], twitkey.twkey[\"ACCESS_TOKEN_SECRET\"])\n",
    "#別ファイルtwitkey.pyから必要な各パラメータ値を参照します。\n",
    "print(twitter)\n",
    "\n",
    "uid = \"3_syouktaro\"\n",
    "response=twitter.get(\n",
    "     f'https://api.twitter.com/1.1/statuses/user_timeline.json?user_id={uid}')\n",
    "res = response.text\n",
    "\n",
    "res = json.dumps(res, indent=2)"
   ]
  },
  {
   "cell_type": "code",
   "execution_count": 1003,
   "metadata": {},
   "outputs": [],
   "source": [
    "import glob\n",
    "import MeCab\n",
    "import pandas as pd\n",
    "from janome.tokenizer import Tokenizer\n",
    "from gensim.models import word2vec"
   ]
  },
  {
   "cell_type": "code",
   "execution_count": 1004,
   "metadata": {},
   "outputs": [],
   "source": [
    "import time"
   ]
  },
  {
   "cell_type": "markdown",
   "metadata": {},
   "source": [
    "# tweetデータの分かち書き/ベクトル取得"
   ]
  },
  {
   "cell_type": "code",
   "execution_count": 1013,
   "metadata": {},
   "outputs": [],
   "source": [
    "df[\"words\"] = \"\"\n",
    "for index, row in df.iterrows():\n",
    "    wakati_result = wakati(row[df.columns.get_loc(\"tweet\")])\n",
    "    df.at[index, \"words\"] = wakati_result"
   ]
  },
  {
   "cell_type": "code",
   "execution_count": 1014,
   "metadata": {},
   "outputs": [
    {
     "data": {
      "text/html": [
       "<div>\n",
       "<style scoped>\n",
       "    .dataframe tbody tr th:only-of-type {\n",
       "        vertical-align: middle;\n",
       "    }\n",
       "\n",
       "    .dataframe tbody tr th {\n",
       "        vertical-align: top;\n",
       "    }\n",
       "\n",
       "    .dataframe thead th {\n",
       "        text-align: right;\n",
       "    }\n",
       "</style>\n",
       "<table border=\"1\" class=\"dataframe\">\n",
       "  <thead>\n",
       "    <tr style=\"text-align: right;\">\n",
       "      <th></th>\n",
       "      <th>tweet</th>\n",
       "      <th>id</th>\n",
       "      <th>words</th>\n",
       "    </tr>\n",
       "  </thead>\n",
       "  <tbody>\n",
       "    <tr>\n",
       "      <td>0</td>\n",
       "      <td>社会人経験のない私が初めて社会人になった一日でした  また公開したらお知らせします！</td>\n",
       "      <td>1180102824685780992</td>\n",
       "      <td>[社会, 人, 経験, の, ない, 私, が, 初めて, 社会, 人, に, なる, た,...</td>\n",
       "    </tr>\n",
       "    <tr>\n",
       "      <td>2</td>\n",
       "      <td>今日はとある撮影でした</td>\n",
       "      <td>1180076895699795968</td>\n",
       "      <td>[今日, は, とある, 撮影, です, た]</td>\n",
       "    </tr>\n",
       "    <tr>\n",
       "      <td>7</td>\n",
       "      <td>ここお化け屋敷みたいになっててメニューも面白いです🙆‍♀️</td>\n",
       "      <td>1179417914430103562</td>\n",
       "      <td>[ここ, お化け, 屋敷, みたい, に, なる, てる, て, メニュー, も, 面白い,...</td>\n",
       "    </tr>\n",
       "    <tr>\n",
       "      <td>12</td>\n",
       "      <td>シメのお茶漬けを食べてる途中なのにまだ頼もうとする食太郎</td>\n",
       "      <td>1179398011165827072</td>\n",
       "      <td>[シメ, の, お茶漬け, を, 食べる, てる, 途中, だ, のに, まだ, 頼む, う...</td>\n",
       "    </tr>\n",
       "    <tr>\n",
       "      <td>13</td>\n",
       "      <td>今日撮影した動画、 前回の宅撮り動画の画角が微妙だったから色々模索した結果、モッパンみたいな...</td>\n",
       "      <td>1179356611137212417</td>\n",
       "      <td>[今日, 撮影, する, た, 動画, 、,  , 前回, の, 宅, 撮る, 動画, の,...</td>\n",
       "    </tr>\n",
       "  </tbody>\n",
       "</table>\n",
       "</div>"
      ],
      "text/plain": [
       "                                                tweet                   id  \\\n",
       "0         社会人経験のない私が初めて社会人になった一日でした  また公開したらお知らせします！   1180102824685780992   \n",
       "2                                        今日はとある撮影でした   1180076895699795968   \n",
       "7                       ここお化け屋敷みたいになっててメニューも面白いです🙆‍♀️  1179417914430103562   \n",
       "12                      シメのお茶漬けを食べてる途中なのにまだ頼もうとする食太郎   1179398011165827072   \n",
       "13  今日撮影した動画、 前回の宅撮り動画の画角が微妙だったから色々模索した結果、モッパンみたいな...  1179356611137212417   \n",
       "\n",
       "                                                words  \n",
       "0   [社会, 人, 経験, の, ない, 私, が, 初めて, 社会, 人, に, なる, た,...  \n",
       "2                             [今日, は, とある, 撮影, です, た]  \n",
       "7   [ここ, お化け, 屋敷, みたい, に, なる, てる, て, メニュー, も, 面白い,...  \n",
       "12  [シメ, の, お茶漬け, を, 食べる, てる, 途中, だ, のに, まだ, 頼む, う...  \n",
       "13  [今日, 撮影, する, た, 動画, 、,  , 前回, の, 宅, 撮る, 動画, の,...  "
      ]
     },
     "execution_count": 1014,
     "metadata": {},
     "output_type": "execute_result"
    }
   ],
   "source": [
    "df.head()"
   ]
  },
  {
   "cell_type": "code",
   "execution_count": 1015,
   "metadata": {},
   "outputs": [],
   "source": [
    "def wakati(sentence):\n",
    "    t = Tokenizer()\n",
    "    words = []\n",
    "    for token in t.tokenize(sentence, stream=True):\n",
    "        words.append(token.base_form)\n",
    "    return words\n",
    "\n",
    "def getVector(words):\n",
    "    tweet_vec = [0] * 50\n",
    "    error = 0\n",
    "    for word in words:\n",
    "        try:\n",
    "            tweet_vec += model.wv[word]\n",
    "        except:\n",
    "            error += 1\n",
    "    try:\n",
    "        tweet_vec = tweet_vec/len(words)\n",
    "    except:\n",
    "        error += 1\n",
    "    return tweet_vec"
   ]
  },
  {
   "cell_type": "code",
   "execution_count": 1016,
   "metadata": {},
   "outputs": [],
   "source": [
    "def cos_sim(v1, v2):\n",
    "    return np.dot(v1, v2) / (np.linalg.norm(v1) * np.linalg.norm(v2))"
   ]
  },
  {
   "cell_type": "code",
   "execution_count": 1017,
   "metadata": {
    "scrolled": true
   },
   "outputs": [],
   "source": [
    "lyrics_dir_list = glob.glob('./lyrics/*.txt')"
   ]
  },
  {
   "cell_type": "code",
   "execution_count": null,
   "metadata": {
    "scrolled": true
   },
   "outputs": [],
   "source": []
  },
  {
   "cell_type": "code",
   "execution_count": 1018,
   "metadata": {},
   "outputs": [],
   "source": [
    "df[\"vec\"] = \"\"\n",
    "for index, row in df.iterrows():\n",
    "    df.at[index, \"vec\"] = getVector(row[df.columns.get_loc(\"words\")])"
   ]
  },
  {
   "cell_type": "markdown",
   "metadata": {},
   "source": [
    "# 歌詞の分かち書き/ベクトル取得"
   ]
  },
  {
   "cell_type": "code",
   "execution_count": 1019,
   "metadata": {},
   "outputs": [],
   "source": [
    "# lyrics_list = []\n",
    "# for lyric_dir in lyrics_dir_list:\n",
    "#     f = open(lyric_dir)\n",
    "#     data1 = f.read()  # ファイル終端まで全て読んだデータを返す\n",
    "#     f.close()\n",
    "#     data1 = data1.replace(\"\\n\", \" \")\n",
    "#     lyrics_list.append(data1)\n",
    "# #     lines1 = data1.split('\\n') # 改行で区切る(改行文字そのものは戻り値のデータには含まれない)\n",
    "# #     print(type(lines1))\n",
    "# #     for line in lines1:\n",
    "# #         print(line)"
   ]
  },
  {
   "cell_type": "code",
   "execution_count": 1020,
   "metadata": {
    "scrolled": true
   },
   "outputs": [],
   "source": [
    "df_song = pd.read_csv(\"./lyrics.csv\")"
   ]
  },
  {
   "cell_type": "code",
   "execution_count": 1021,
   "metadata": {
    "scrolled": true
   },
   "outputs": [],
   "source": [
    "df_song = df_song.rename(columns = {\"song\":\"song_name\",\"lyrics\":\"lyric\", \"word\":\"words\"})"
   ]
  },
  {
   "cell_type": "code",
   "execution_count": 1022,
   "metadata": {
    "scrolled": true
   },
   "outputs": [],
   "source": [
    "\n",
    "df_song[\"words\"] = \"\"\n",
    "for index, row in df_song.iterrows():\n",
    "    wakati_result = wakati(row[df_song.columns.get_loc(\"lyric\")])\n",
    "    df_song.at[index, \"words\"] = wakati_result\n",
    "    \n",
    "df_song[\"vec\"] = \"\"\n",
    "for index, row in df_song.iterrows():\n",
    "    df_song.at[index, \"vec\"] = getVector(row[df_song.columns.get_loc(\"words\")])"
   ]
  },
  {
   "cell_type": "code",
   "execution_count": 1023,
   "metadata": {},
   "outputs": [
    {
     "data": {
      "text/html": [
       "<div>\n",
       "<style scoped>\n",
       "    .dataframe tbody tr th:only-of-type {\n",
       "        vertical-align: middle;\n",
       "    }\n",
       "\n",
       "    .dataframe tbody tr th {\n",
       "        vertical-align: top;\n",
       "    }\n",
       "\n",
       "    .dataframe thead th {\n",
       "        text-align: right;\n",
       "    }\n",
       "</style>\n",
       "<table border=\"1\" class=\"dataframe\">\n",
       "  <thead>\n",
       "    <tr style=\"text-align: right;\">\n",
       "      <th></th>\n",
       "      <th>Unnamed: 0</th>\n",
       "      <th>song_name</th>\n",
       "      <th>lyric</th>\n",
       "      <th>words</th>\n",
       "      <th>vec</th>\n",
       "    </tr>\n",
       "  </thead>\n",
       "  <tbody>\n",
       "    <tr>\n",
       "      <td>0</td>\n",
       "      <td>0</td>\n",
       "      <td>From Zero</td>\n",
       "      <td>わたしの時間はずっと止まっていたんです  あなたが優しく溶かしてくれるまで  未来のことは笑...</td>\n",
       "      <td>[わたし, の, 時間, は, ずっと, 止まる, て, いる, た, ん, です,   ,...</td>\n",
       "      <td>[0.025897647622220504, 0.026424219022290064, 0...</td>\n",
       "    </tr>\n",
       "    <tr>\n",
       "      <td>1</td>\n",
       "      <td>1</td>\n",
       "      <td>Home Sweet Home</td>\n",
       "      <td>1日ゴロゴロパソコン開いて 君のタイムラインにツイート並べて ダラダラしてたいのずっと でも...</td>\n",
       "      <td>[1, 日, ゴロゴロ, パソコン, 開く, て,  , 君, の, タイム, ライン, に...</td>\n",
       "      <td>[0.014442443654946142, 0.005117675288196254, 0...</td>\n",
       "    </tr>\n",
       "    <tr>\n",
       "      <td>2</td>\n",
       "      <td>2</td>\n",
       "      <td>ガチで恋するお前らへ</td>\n",
       "      <td>愛されたい   愛したい そう思って生きてきた 100円入れて        コンティニュー...</td>\n",
       "      <td>[愛す, れる, たい,    , 愛す, たい,  , そう, 思う, て, 生きる, て...</td>\n",
       "      <td>[0.019695966599886535, -0.014241084673237626, ...</td>\n",
       "    </tr>\n",
       "    <tr>\n",
       "      <td>3</td>\n",
       "      <td>3</td>\n",
       "      <td>Daydream</td>\n",
       "      <td>くり返す毎日 同じばっかでやだよ 土日はずっと寝腐って マンデーブルーさ  今年こそはキミと...</td>\n",
       "      <td>[くり, 返す, 毎日,  , 同じ, ばっか, だ, や, だ, よ,  , 土日, は,...</td>\n",
       "      <td>[0.02401585539640062, -0.013601791359904098, 0...</td>\n",
       "    </tr>\n",
       "    <tr>\n",
       "      <td>4</td>\n",
       "      <td>4</td>\n",
       "      <td>Chocolate Adventure</td>\n",
       "      <td>まるさんかくしかくにほし 色とりどりに輝くチョコレートを 探すための冒険に出ようか  酸いも...</td>\n",
       "      <td>[まるい, さ, ん, かく, しかく, に, ほす,  , 色とりどり, に, 輝く, チ...</td>\n",
       "      <td>[0.01229509499804584, -0.010986386253707962, 0...</td>\n",
       "    </tr>\n",
       "    <tr>\n",
       "      <td>5</td>\n",
       "      <td>5</td>\n",
       "      <td>くいしんぼハッカー</td>\n",
       "      <td>はあ〜、おなかすいた〜 むむっ、あんなところに おしゃカヘだ パヘたべたい！ あ〜〜パヘたべ...</td>\n",
       "      <td>[はあ, 〜, 、, おなか, すく, た, 〜,  , むむっ, 、, あんな, ところ,...</td>\n",
       "      <td>[0.003220348573314137, -0.034010078650708105, ...</td>\n",
       "    </tr>\n",
       "    <tr>\n",
       "      <td>6</td>\n",
       "      <td>6</td>\n",
       "      <td>Night Sky</td>\n",
       "      <td>星降るこの夜空 時よ止まれと永遠を願う あの流星が消える前に もし最後の言葉が 何かを変える...</td>\n",
       "      <td>[星, 降る, この, 夜空,  , 時, よ, 止まる, と, 永遠, を, 願う,  ,...</td>\n",
       "      <td>[0.029784465679632766, 0.021497038118541242, 0...</td>\n",
       "    </tr>\n",
       "    <tr>\n",
       "      <td>7</td>\n",
       "      <td>7</td>\n",
       "      <td>Hack you</td>\n",
       "      <td>Hack you! Hack you!  H・A・C・K・Y・O・U  Hack you! ...</td>\n",
       "      <td>[Hack,  , you, !,  , Hack,  , you, !,   , H, ・...</td>\n",
       "      <td>[0.0155584522888728, -0.033948555853838096, 0....</td>\n",
       "    </tr>\n",
       "    <tr>\n",
       "      <td>8</td>\n",
       "      <td>8</td>\n",
       "      <td>Sweet Dreams</td>\n",
       "      <td>甘くってとろけちゃいそうな アイスクリームをちょうだいな 泣きたくなって逃げたくなった 君を...</td>\n",
       "      <td>[甘い, て, とろける, ちゃう, そう, だ,  , アイスクリーム, を, ちょうだい...</td>\n",
       "      <td>[0.0035413797120921885, -0.016895483953591722,...</td>\n",
       "    </tr>\n",
       "  </tbody>\n",
       "</table>\n",
       "</div>"
      ],
      "text/plain": [
       "   Unnamed: 0            song_name  \\\n",
       "0           0            From Zero   \n",
       "1           1      Home Sweet Home   \n",
       "2           2           ガチで恋するお前らへ   \n",
       "3           3             Daydream   \n",
       "4           4  Chocolate Adventure   \n",
       "5           5            くいしんぼハッカー   \n",
       "6           6            Night Sky   \n",
       "7           7             Hack you   \n",
       "8           8         Sweet Dreams   \n",
       "\n",
       "                                               lyric  \\\n",
       "0  わたしの時間はずっと止まっていたんです  あなたが優しく溶かしてくれるまで  未来のことは笑...   \n",
       "1  1日ゴロゴロパソコン開いて 君のタイムラインにツイート並べて ダラダラしてたいのずっと でも...   \n",
       "2  愛されたい   愛したい そう思って生きてきた 100円入れて        コンティニュー...   \n",
       "3  くり返す毎日 同じばっかでやだよ 土日はずっと寝腐って マンデーブルーさ  今年こそはキミと...   \n",
       "4  まるさんかくしかくにほし 色とりどりに輝くチョコレートを 探すための冒険に出ようか  酸いも...   \n",
       "5  はあ〜、おなかすいた〜 むむっ、あんなところに おしゃカヘだ パヘたべたい！ あ〜〜パヘたべ...   \n",
       "6  星降るこの夜空 時よ止まれと永遠を願う あの流星が消える前に もし最後の言葉が 何かを変える...   \n",
       "7  Hack you! Hack you!  H・A・C・K・Y・O・U  Hack you! ...   \n",
       "8  甘くってとろけちゃいそうな アイスクリームをちょうだいな 泣きたくなって逃げたくなった 君を...   \n",
       "\n",
       "                                               words  \\\n",
       "0  [わたし, の, 時間, は, ずっと, 止まる, て, いる, た, ん, です,   ,...   \n",
       "1  [1, 日, ゴロゴロ, パソコン, 開く, て,  , 君, の, タイム, ライン, に...   \n",
       "2  [愛す, れる, たい,    , 愛す, たい,  , そう, 思う, て, 生きる, て...   \n",
       "3  [くり, 返す, 毎日,  , 同じ, ばっか, だ, や, だ, よ,  , 土日, は,...   \n",
       "4  [まるい, さ, ん, かく, しかく, に, ほす,  , 色とりどり, に, 輝く, チ...   \n",
       "5  [はあ, 〜, 、, おなか, すく, た, 〜,  , むむっ, 、, あんな, ところ,...   \n",
       "6  [星, 降る, この, 夜空,  , 時, よ, 止まる, と, 永遠, を, 願う,  ,...   \n",
       "7  [Hack,  , you, !,  , Hack,  , you, !,   , H, ・...   \n",
       "8  [甘い, て, とろける, ちゃう, そう, だ,  , アイスクリーム, を, ちょうだい...   \n",
       "\n",
       "                                                 vec  \n",
       "0  [0.025897647622220504, 0.026424219022290064, 0...  \n",
       "1  [0.014442443654946142, 0.005117675288196254, 0...  \n",
       "2  [0.019695966599886535, -0.014241084673237626, ...  \n",
       "3  [0.02401585539640062, -0.013601791359904098, 0...  \n",
       "4  [0.01229509499804584, -0.010986386253707962, 0...  \n",
       "5  [0.003220348573314137, -0.034010078650708105, ...  \n",
       "6  [0.029784465679632766, 0.021497038118541242, 0...  \n",
       "7  [0.0155584522888728, -0.033948555853838096, 0....  \n",
       "8  [0.0035413797120921885, -0.016895483953591722,...  "
      ]
     },
     "execution_count": 1023,
     "metadata": {},
     "output_type": "execute_result"
    }
   ],
   "source": [
    "df_song"
   ]
  },
  {
   "cell_type": "code",
   "execution_count": 1024,
   "metadata": {},
   "outputs": [],
   "source": [
    "# songs_name_list = lyrics_dir_list.copy()\n",
    "# for i in range(len(songs_name)):\n",
    "#         songs_name_list[i] = songs_name_list[i][9:-4]\n",
    "\n",
    "# df_song = pd.DataFrame(columns={\"song_name\", \"lyric\", \"words\", \"vec\"})\n",
    "# df_song.song_name = songs_name_list\n",
    "# df_song.lyric = lyrics_list\n",
    "\n",
    "# df_song[\"words\"] = \"\"\n",
    "# for index, row in df_song.iterrows():\n",
    "#     wakati_result = wakati(row[df_song.columns.get_loc(\"lyric\")])\n",
    "#     df_song.at[index, \"words\"] = wakati_result\n",
    "    \n",
    "# df_song[\"vec\"] = \"\"\n",
    "# for index, row in df_song.iterrows():\n",
    "#     df_song.at[index, \"vec\"] = getVector(row[df_song.columns.get_loc(\"words\")])"
   ]
  },
  {
   "cell_type": "code",
   "execution_count": 1025,
   "metadata": {
    "scrolled": true
   },
   "outputs": [
    {
     "data": {
      "text/html": [
       "<div>\n",
       "<style scoped>\n",
       "    .dataframe tbody tr th:only-of-type {\n",
       "        vertical-align: middle;\n",
       "    }\n",
       "\n",
       "    .dataframe tbody tr th {\n",
       "        vertical-align: top;\n",
       "    }\n",
       "\n",
       "    .dataframe thead th {\n",
       "        text-align: right;\n",
       "    }\n",
       "</style>\n",
       "<table border=\"1\" class=\"dataframe\">\n",
       "  <thead>\n",
       "    <tr style=\"text-align: right;\">\n",
       "      <th></th>\n",
       "      <th>Unnamed: 0</th>\n",
       "      <th>song_name</th>\n",
       "      <th>lyric</th>\n",
       "      <th>words</th>\n",
       "      <th>vec</th>\n",
       "    </tr>\n",
       "  </thead>\n",
       "  <tbody>\n",
       "    <tr>\n",
       "      <td>0</td>\n",
       "      <td>0</td>\n",
       "      <td>From Zero</td>\n",
       "      <td>わたしの時間はずっと止まっていたんです  あなたが優しく溶かしてくれるまで  未来のことは笑...</td>\n",
       "      <td>[わたし, の, 時間, は, ずっと, 止まる, て, いる, た, ん, です,   ,...</td>\n",
       "      <td>[0.025897647622220504, 0.026424219022290064, 0...</td>\n",
       "    </tr>\n",
       "    <tr>\n",
       "      <td>1</td>\n",
       "      <td>1</td>\n",
       "      <td>Home Sweet Home</td>\n",
       "      <td>1日ゴロゴロパソコン開いて 君のタイムラインにツイート並べて ダラダラしてたいのずっと でも...</td>\n",
       "      <td>[1, 日, ゴロゴロ, パソコン, 開く, て,  , 君, の, タイム, ライン, に...</td>\n",
       "      <td>[0.014442443654946142, 0.005117675288196254, 0...</td>\n",
       "    </tr>\n",
       "    <tr>\n",
       "      <td>2</td>\n",
       "      <td>2</td>\n",
       "      <td>ガチで恋するお前らへ</td>\n",
       "      <td>愛されたい   愛したい そう思って生きてきた 100円入れて        コンティニュー...</td>\n",
       "      <td>[愛す, れる, たい,    , 愛す, たい,  , そう, 思う, て, 生きる, て...</td>\n",
       "      <td>[0.019695966599886535, -0.014241084673237626, ...</td>\n",
       "    </tr>\n",
       "    <tr>\n",
       "      <td>3</td>\n",
       "      <td>3</td>\n",
       "      <td>Daydream</td>\n",
       "      <td>くり返す毎日 同じばっかでやだよ 土日はずっと寝腐って マンデーブルーさ  今年こそはキミと...</td>\n",
       "      <td>[くり, 返す, 毎日,  , 同じ, ばっか, だ, や, だ, よ,  , 土日, は,...</td>\n",
       "      <td>[0.02401585539640062, -0.013601791359904098, 0...</td>\n",
       "    </tr>\n",
       "    <tr>\n",
       "      <td>4</td>\n",
       "      <td>4</td>\n",
       "      <td>Chocolate Adventure</td>\n",
       "      <td>まるさんかくしかくにほし 色とりどりに輝くチョコレートを 探すための冒険に出ようか  酸いも...</td>\n",
       "      <td>[まるい, さ, ん, かく, しかく, に, ほす,  , 色とりどり, に, 輝く, チ...</td>\n",
       "      <td>[0.01229509499804584, -0.010986386253707962, 0...</td>\n",
       "    </tr>\n",
       "    <tr>\n",
       "      <td>5</td>\n",
       "      <td>5</td>\n",
       "      <td>くいしんぼハッカー</td>\n",
       "      <td>はあ〜、おなかすいた〜 むむっ、あんなところに おしゃカヘだ パヘたべたい！ あ〜〜パヘたべ...</td>\n",
       "      <td>[はあ, 〜, 、, おなか, すく, た, 〜,  , むむっ, 、, あんな, ところ,...</td>\n",
       "      <td>[0.003220348573314137, -0.034010078650708105, ...</td>\n",
       "    </tr>\n",
       "    <tr>\n",
       "      <td>6</td>\n",
       "      <td>6</td>\n",
       "      <td>Night Sky</td>\n",
       "      <td>星降るこの夜空 時よ止まれと永遠を願う あの流星が消える前に もし最後の言葉が 何かを変える...</td>\n",
       "      <td>[星, 降る, この, 夜空,  , 時, よ, 止まる, と, 永遠, を, 願う,  ,...</td>\n",
       "      <td>[0.029784465679632766, 0.021497038118541242, 0...</td>\n",
       "    </tr>\n",
       "    <tr>\n",
       "      <td>7</td>\n",
       "      <td>7</td>\n",
       "      <td>Hack you</td>\n",
       "      <td>Hack you! Hack you!  H・A・C・K・Y・O・U  Hack you! ...</td>\n",
       "      <td>[Hack,  , you, !,  , Hack,  , you, !,   , H, ・...</td>\n",
       "      <td>[0.0155584522888728, -0.033948555853838096, 0....</td>\n",
       "    </tr>\n",
       "    <tr>\n",
       "      <td>8</td>\n",
       "      <td>8</td>\n",
       "      <td>Sweet Dreams</td>\n",
       "      <td>甘くってとろけちゃいそうな アイスクリームをちょうだいな 泣きたくなって逃げたくなった 君を...</td>\n",
       "      <td>[甘い, て, とろける, ちゃう, そう, だ,  , アイスクリーム, を, ちょうだい...</td>\n",
       "      <td>[0.0035413797120921885, -0.016895483953591722,...</td>\n",
       "    </tr>\n",
       "  </tbody>\n",
       "</table>\n",
       "</div>"
      ],
      "text/plain": [
       "   Unnamed: 0            song_name  \\\n",
       "0           0            From Zero   \n",
       "1           1      Home Sweet Home   \n",
       "2           2           ガチで恋するお前らへ   \n",
       "3           3             Daydream   \n",
       "4           4  Chocolate Adventure   \n",
       "5           5            くいしんぼハッカー   \n",
       "6           6            Night Sky   \n",
       "7           7             Hack you   \n",
       "8           8         Sweet Dreams   \n",
       "\n",
       "                                               lyric  \\\n",
       "0  わたしの時間はずっと止まっていたんです  あなたが優しく溶かしてくれるまで  未来のことは笑...   \n",
       "1  1日ゴロゴロパソコン開いて 君のタイムラインにツイート並べて ダラダラしてたいのずっと でも...   \n",
       "2  愛されたい   愛したい そう思って生きてきた 100円入れて        コンティニュー...   \n",
       "3  くり返す毎日 同じばっかでやだよ 土日はずっと寝腐って マンデーブルーさ  今年こそはキミと...   \n",
       "4  まるさんかくしかくにほし 色とりどりに輝くチョコレートを 探すための冒険に出ようか  酸いも...   \n",
       "5  はあ〜、おなかすいた〜 むむっ、あんなところに おしゃカヘだ パヘたべたい！ あ〜〜パヘたべ...   \n",
       "6  星降るこの夜空 時よ止まれと永遠を願う あの流星が消える前に もし最後の言葉が 何かを変える...   \n",
       "7  Hack you! Hack you!  H・A・C・K・Y・O・U  Hack you! ...   \n",
       "8  甘くってとろけちゃいそうな アイスクリームをちょうだいな 泣きたくなって逃げたくなった 君を...   \n",
       "\n",
       "                                               words  \\\n",
       "0  [わたし, の, 時間, は, ずっと, 止まる, て, いる, た, ん, です,   ,...   \n",
       "1  [1, 日, ゴロゴロ, パソコン, 開く, て,  , 君, の, タイム, ライン, に...   \n",
       "2  [愛す, れる, たい,    , 愛す, たい,  , そう, 思う, て, 生きる, て...   \n",
       "3  [くり, 返す, 毎日,  , 同じ, ばっか, だ, や, だ, よ,  , 土日, は,...   \n",
       "4  [まるい, さ, ん, かく, しかく, に, ほす,  , 色とりどり, に, 輝く, チ...   \n",
       "5  [はあ, 〜, 、, おなか, すく, た, 〜,  , むむっ, 、, あんな, ところ,...   \n",
       "6  [星, 降る, この, 夜空,  , 時, よ, 止まる, と, 永遠, を, 願う,  ,...   \n",
       "7  [Hack,  , you, !,  , Hack,  , you, !,   , H, ・...   \n",
       "8  [甘い, て, とろける, ちゃう, そう, だ,  , アイスクリーム, を, ちょうだい...   \n",
       "\n",
       "                                                 vec  \n",
       "0  [0.025897647622220504, 0.026424219022290064, 0...  \n",
       "1  [0.014442443654946142, 0.005117675288196254, 0...  \n",
       "2  [0.019695966599886535, -0.014241084673237626, ...  \n",
       "3  [0.02401585539640062, -0.013601791359904098, 0...  \n",
       "4  [0.01229509499804584, -0.010986386253707962, 0...  \n",
       "5  [0.003220348573314137, -0.034010078650708105, ...  \n",
       "6  [0.029784465679632766, 0.021497038118541242, 0...  \n",
       "7  [0.0155584522888728, -0.033948555853838096, 0....  \n",
       "8  [0.0035413797120921885, -0.016895483953591722,...  "
      ]
     },
     "execution_count": 1025,
     "metadata": {},
     "output_type": "execute_result"
    }
   ],
   "source": [
    "df_song"
   ]
  },
  {
   "cell_type": "code",
   "execution_count": 1026,
   "metadata": {},
   "outputs": [
    {
     "data": {
      "text/html": [
       "<div>\n",
       "<style scoped>\n",
       "    .dataframe tbody tr th:only-of-type {\n",
       "        vertical-align: middle;\n",
       "    }\n",
       "\n",
       "    .dataframe tbody tr th {\n",
       "        vertical-align: top;\n",
       "    }\n",
       "\n",
       "    .dataframe thead th {\n",
       "        text-align: right;\n",
       "    }\n",
       "</style>\n",
       "<table border=\"1\" class=\"dataframe\">\n",
       "  <thead>\n",
       "    <tr style=\"text-align: right;\">\n",
       "      <th></th>\n",
       "      <th>Unnamed: 0</th>\n",
       "      <th>song_name</th>\n",
       "      <th>lyric</th>\n",
       "      <th>words</th>\n",
       "      <th>vec</th>\n",
       "    </tr>\n",
       "  </thead>\n",
       "  <tbody>\n",
       "    <tr>\n",
       "      <td>0</td>\n",
       "      <td>0</td>\n",
       "      <td>From Zero</td>\n",
       "      <td>わたしの時間はずっと止まっていたんです  あなたが優しく溶かしてくれるまで  未来のことは笑...</td>\n",
       "      <td>[わたし, の, 時間, は, ずっと, 止まる, て, いる, た, ん, です,   ,...</td>\n",
       "      <td>[0.025897647622220504, 0.026424219022290064, 0...</td>\n",
       "    </tr>\n",
       "    <tr>\n",
       "      <td>1</td>\n",
       "      <td>1</td>\n",
       "      <td>Home Sweet Home</td>\n",
       "      <td>1日ゴロゴロパソコン開いて 君のタイムラインにツイート並べて ダラダラしてたいのずっと でも...</td>\n",
       "      <td>[1, 日, ゴロゴロ, パソコン, 開く, て,  , 君, の, タイム, ライン, に...</td>\n",
       "      <td>[0.014442443654946142, 0.005117675288196254, 0...</td>\n",
       "    </tr>\n",
       "    <tr>\n",
       "      <td>2</td>\n",
       "      <td>2</td>\n",
       "      <td>ガチで恋するお前らへ</td>\n",
       "      <td>愛されたい   愛したい そう思って生きてきた 100円入れて        コンティニュー...</td>\n",
       "      <td>[愛す, れる, たい,    , 愛す, たい,  , そう, 思う, て, 生きる, て...</td>\n",
       "      <td>[0.019695966599886535, -0.014241084673237626, ...</td>\n",
       "    </tr>\n",
       "    <tr>\n",
       "      <td>3</td>\n",
       "      <td>3</td>\n",
       "      <td>Daydream</td>\n",
       "      <td>くり返す毎日 同じばっかでやだよ 土日はずっと寝腐って マンデーブルーさ  今年こそはキミと...</td>\n",
       "      <td>[くり, 返す, 毎日,  , 同じ, ばっか, だ, や, だ, よ,  , 土日, は,...</td>\n",
       "      <td>[0.02401585539640062, -0.013601791359904098, 0...</td>\n",
       "    </tr>\n",
       "    <tr>\n",
       "      <td>4</td>\n",
       "      <td>4</td>\n",
       "      <td>Chocolate Adventure</td>\n",
       "      <td>まるさんかくしかくにほし 色とりどりに輝くチョコレートを 探すための冒険に出ようか  酸いも...</td>\n",
       "      <td>[まるい, さ, ん, かく, しかく, に, ほす,  , 色とりどり, に, 輝く, チ...</td>\n",
       "      <td>[0.01229509499804584, -0.010986386253707962, 0...</td>\n",
       "    </tr>\n",
       "  </tbody>\n",
       "</table>\n",
       "</div>"
      ],
      "text/plain": [
       "   Unnamed: 0            song_name  \\\n",
       "0           0            From Zero   \n",
       "1           1      Home Sweet Home   \n",
       "2           2           ガチで恋するお前らへ   \n",
       "3           3             Daydream   \n",
       "4           4  Chocolate Adventure   \n",
       "\n",
       "                                               lyric  \\\n",
       "0  わたしの時間はずっと止まっていたんです  あなたが優しく溶かしてくれるまで  未来のことは笑...   \n",
       "1  1日ゴロゴロパソコン開いて 君のタイムラインにツイート並べて ダラダラしてたいのずっと でも...   \n",
       "2  愛されたい   愛したい そう思って生きてきた 100円入れて        コンティニュー...   \n",
       "3  くり返す毎日 同じばっかでやだよ 土日はずっと寝腐って マンデーブルーさ  今年こそはキミと...   \n",
       "4  まるさんかくしかくにほし 色とりどりに輝くチョコレートを 探すための冒険に出ようか  酸いも...   \n",
       "\n",
       "                                               words  \\\n",
       "0  [わたし, の, 時間, は, ずっと, 止まる, て, いる, た, ん, です,   ,...   \n",
       "1  [1, 日, ゴロゴロ, パソコン, 開く, て,  , 君, の, タイム, ライン, に...   \n",
       "2  [愛す, れる, たい,    , 愛す, たい,  , そう, 思う, て, 生きる, て...   \n",
       "3  [くり, 返す, 毎日,  , 同じ, ばっか, だ, や, だ, よ,  , 土日, は,...   \n",
       "4  [まるい, さ, ん, かく, しかく, に, ほす,  , 色とりどり, に, 輝く, チ...   \n",
       "\n",
       "                                                 vec  \n",
       "0  [0.025897647622220504, 0.026424219022290064, 0...  \n",
       "1  [0.014442443654946142, 0.005117675288196254, 0...  \n",
       "2  [0.019695966599886535, -0.014241084673237626, ...  \n",
       "3  [0.02401585539640062, -0.013601791359904098, 0...  \n",
       "4  [0.01229509499804584, -0.010986386253707962, 0...  "
      ]
     },
     "execution_count": 1026,
     "metadata": {},
     "output_type": "execute_result"
    }
   ],
   "source": [
    "df_song.head()"
   ]
  },
  {
   "cell_type": "code",
   "execution_count": 1027,
   "metadata": {
    "scrolled": true
   },
   "outputs": [
    {
     "data": {
      "text/html": [
       "<div>\n",
       "<style scoped>\n",
       "    .dataframe tbody tr th:only-of-type {\n",
       "        vertical-align: middle;\n",
       "    }\n",
       "\n",
       "    .dataframe tbody tr th {\n",
       "        vertical-align: top;\n",
       "    }\n",
       "\n",
       "    .dataframe thead th {\n",
       "        text-align: right;\n",
       "    }\n",
       "</style>\n",
       "<table border=\"1\" class=\"dataframe\">\n",
       "  <thead>\n",
       "    <tr style=\"text-align: right;\">\n",
       "      <th></th>\n",
       "      <th>tweet</th>\n",
       "      <th>id</th>\n",
       "      <th>words</th>\n",
       "      <th>vec</th>\n",
       "    </tr>\n",
       "  </thead>\n",
       "  <tbody>\n",
       "    <tr>\n",
       "      <td>0</td>\n",
       "      <td>社会人経験のない私が初めて社会人になった一日でした  また公開したらお知らせします！</td>\n",
       "      <td>1180102824685780992</td>\n",
       "      <td>[社会, 人, 経験, の, ない, 私, が, 初めて, 社会, 人, に, なる, た,...</td>\n",
       "      <td>[-0.008440599060402466, 0.019413520922311224, ...</td>\n",
       "    </tr>\n",
       "    <tr>\n",
       "      <td>2</td>\n",
       "      <td>今日はとある撮影でした</td>\n",
       "      <td>1180076895699795968</td>\n",
       "      <td>[今日, は, とある, 撮影, です, た]</td>\n",
       "      <td>[0.03788889323671659, 0.07729969546198845, 0.1...</td>\n",
       "    </tr>\n",
       "    <tr>\n",
       "      <td>7</td>\n",
       "      <td>ここお化け屋敷みたいになっててメニューも面白いです🙆‍♀️</td>\n",
       "      <td>1179417914430103562</td>\n",
       "      <td>[ここ, お化け, 屋敷, みたい, に, なる, てる, て, メニュー, も, 面白い,...</td>\n",
       "      <td>[0.0005040538807710011, -0.021102825986842315,...</td>\n",
       "    </tr>\n",
       "    <tr>\n",
       "      <td>12</td>\n",
       "      <td>シメのお茶漬けを食べてる途中なのにまだ頼もうとする食太郎</td>\n",
       "      <td>1179398011165827072</td>\n",
       "      <td>[シメ, の, お茶漬け, を, 食べる, てる, 途中, だ, のに, まだ, 頼む, う...</td>\n",
       "      <td>[0.01221646653721109, -0.01834698347374797, 0....</td>\n",
       "    </tr>\n",
       "    <tr>\n",
       "      <td>13</td>\n",
       "      <td>今日撮影した動画、 前回の宅撮り動画の画角が微妙だったから色々模索した結果、モッパンみたいな...</td>\n",
       "      <td>1179356611137212417</td>\n",
       "      <td>[今日, 撮影, する, た, 動画, 、,  , 前回, の, 宅, 撮る, 動画, の,...</td>\n",
       "      <td>[0.013533330899441526, 0.038285453826011645, 0...</td>\n",
       "    </tr>\n",
       "    <tr>\n",
       "      <td>...</td>\n",
       "      <td>...</td>\n",
       "      <td>...</td>\n",
       "      <td>...</td>\n",
       "      <td>...</td>\n",
       "    </tr>\n",
       "    <tr>\n",
       "      <td>1133</td>\n",
       "      <td>見てるだけでも楽しめる😂</td>\n",
       "      <td>1165039553989627905</td>\n",
       "      <td>[見る, てる, だけ, でも, 楽しめる, 😂]</td>\n",
       "      <td>[0.04803086712490767, 0.047283698339015245, 0....</td>\n",
       "    </tr>\n",
       "    <tr>\n",
       "      <td>1144</td>\n",
       "      <td>今日お祭りで食べ歩きの撮影あるから控えます 今から夕方の撮影までの間に我慢して5キロ痩せます</td>\n",
       "      <td>1164979020645093376</td>\n",
       "      <td>[今日, お祭り, で, 食べる, 歩き, の, 撮影, ある, から, 控える, ます, ...</td>\n",
       "      <td>[0.02545857323067529, 0.09407259996182152, 0.0...</td>\n",
       "    </tr>\n",
       "    <tr>\n",
       "      <td>1145</td>\n",
       "      <td>めっちゃおにぎり食べたい</td>\n",
       "      <td>1164978487490297856</td>\n",
       "      <td>[めっちゃ, おにぎり, 食べる, たい]</td>\n",
       "      <td>[-0.03352185833500698, -0.11277600564062595, 0...</td>\n",
       "    </tr>\n",
       "    <tr>\n",
       "      <td>1152</td>\n",
       "      <td>先日お仕事で話題のタピオカランドに行きました  タピオカは美味しくて天才</td>\n",
       "      <td>1164891786822553600</td>\n",
       "      <td>[先日, お, 仕事, で, 話題, の, タピオカ, ランド, に, 行く, ます, た,...</td>\n",
       "      <td>[-0.021538208549221356, -0.005619289146529304,...</td>\n",
       "    </tr>\n",
       "    <tr>\n",
       "      <td>1155</td>\n",
       "      <td>焼肉奢ってください！！</td>\n",
       "      <td>1163744360900382721</td>\n",
       "      <td>[焼肉, 奢る, て, くださる, ！, ！]</td>\n",
       "      <td>[-0.02797816103945176, -0.16575681418180466, 0...</td>\n",
       "    </tr>\n",
       "  </tbody>\n",
       "</table>\n",
       "<p>462 rows × 4 columns</p>\n",
       "</div>"
      ],
      "text/plain": [
       "                                                  tweet                   id  \\\n",
       "0           社会人経験のない私が初めて社会人になった一日でした  また公開したらお知らせします！   1180102824685780992   \n",
       "2                                          今日はとある撮影でした   1180076895699795968   \n",
       "7                         ここお化け屋敷みたいになっててメニューも面白いです🙆‍♀️  1179417914430103562   \n",
       "12                        シメのお茶漬けを食べてる途中なのにまだ頼もうとする食太郎   1179398011165827072   \n",
       "13    今日撮影した動画、 前回の宅撮り動画の画角が微妙だったから色々模索した結果、モッパンみたいな...  1179356611137212417   \n",
       "...                                                 ...                  ...   \n",
       "1133                                       見てるだけでも楽しめる😂  1165039553989627905   \n",
       "1144     今日お祭りで食べ歩きの撮影あるから控えます 今から夕方の撮影までの間に我慢して5キロ痩せます  1164979020645093376   \n",
       "1145                                       めっちゃおにぎり食べたい  1164978487490297856   \n",
       "1152              先日お仕事で話題のタピオカランドに行きました  タピオカは美味しくて天才   1164891786822553600   \n",
       "1155                                        焼肉奢ってください！！  1163744360900382721   \n",
       "\n",
       "                                                  words  \\\n",
       "0     [社会, 人, 経験, の, ない, 私, が, 初めて, 社会, 人, に, なる, た,...   \n",
       "2                               [今日, は, とある, 撮影, です, た]   \n",
       "7     [ここ, お化け, 屋敷, みたい, に, なる, てる, て, メニュー, も, 面白い,...   \n",
       "12    [シメ, の, お茶漬け, を, 食べる, てる, 途中, だ, のに, まだ, 頼む, う...   \n",
       "13    [今日, 撮影, する, た, 動画, 、,  , 前回, の, 宅, 撮る, 動画, の,...   \n",
       "...                                                 ...   \n",
       "1133                          [見る, てる, だけ, でも, 楽しめる, 😂]   \n",
       "1144  [今日, お祭り, で, 食べる, 歩き, の, 撮影, ある, から, 控える, ます, ...   \n",
       "1145                              [めっちゃ, おにぎり, 食べる, たい]   \n",
       "1152  [先日, お, 仕事, で, 話題, の, タピオカ, ランド, に, 行く, ます, た,...   \n",
       "1155                            [焼肉, 奢る, て, くださる, ！, ！]   \n",
       "\n",
       "                                                    vec  \n",
       "0     [-0.008440599060402466, 0.019413520922311224, ...  \n",
       "2     [0.03788889323671659, 0.07729969546198845, 0.1...  \n",
       "7     [0.0005040538807710011, -0.021102825986842315,...  \n",
       "12    [0.01221646653721109, -0.01834698347374797, 0....  \n",
       "13    [0.013533330899441526, 0.038285453826011645, 0...  \n",
       "...                                                 ...  \n",
       "1133  [0.04803086712490767, 0.047283698339015245, 0....  \n",
       "1144  [0.02545857323067529, 0.09407259996182152, 0.0...  \n",
       "1145  [-0.03352185833500698, -0.11277600564062595, 0...  \n",
       "1152  [-0.021538208549221356, -0.005619289146529304,...  \n",
       "1155  [-0.02797816103945176, -0.16575681418180466, 0...  \n",
       "\n",
       "[462 rows x 4 columns]"
      ]
     },
     "execution_count": 1027,
     "metadata": {},
     "output_type": "execute_result"
    }
   ],
   "source": [
    "df"
   ]
  },
  {
   "cell_type": "markdown",
   "metadata": {},
   "source": [
    "# tweetごとに、類似度の高い歌詞を計算"
   ]
  },
  {
   "cell_type": "code",
   "execution_count": 1028,
   "metadata": {
    "scrolled": true
   },
   "outputs": [
    {
     "name": "stderr",
     "output_type": "stream",
     "text": [
      "c:\\users\\sera\\appdata\\local\\programs\\python\\python37\\lib\\site-packages\\ipykernel_launcher.py:2: RuntimeWarning: invalid value encountered in double_scalars\n",
      "  \n"
     ]
    }
   ],
   "source": [
    "df[\"song\"] = \"\"\n",
    "df[\"score\"] = \"\"\n",
    "\n",
    "for index, row in df.iterrows():\n",
    "    vec_tweet = row[df.columns.get_loc(\"vec\")]\n",
    "\n",
    "    vec_song = df_song.vec.tolist()\n",
    "\n",
    "    score_list = []\n",
    "    for vec in vec_song:\n",
    "        score_list.append(cos_sim(vec,vec_tweet))\n",
    "    df.at[index, \"song\"] = df_song.at[score_list.index(max(score_list)), \"song_name\"]\n",
    "#     df.at[index, \"score\"] = max(score_list)\n",
    "    try:\n",
    "        df.at[index, \"score\"] = str(max(score_list))\n",
    "    except:\n",
    "        error = 1\n",
    "df.score = df.score.astype(\"float\")"
   ]
  },
  {
   "cell_type": "code",
   "execution_count": 1029,
   "metadata": {
    "scrolled": true
   },
   "outputs": [
    {
     "data": {
      "text/plain": [
       "Home Sweet Home        120\n",
       "ガチで恋するお前らへ              66\n",
       "Hack you                60\n",
       "くいしんぼハッカー               60\n",
       "Daydream                48\n",
       "Chocolate Adventure     42\n",
       "Night Sky               36\n",
       "From Zero               30\n",
       "Name: song, dtype: int64"
      ]
     },
     "execution_count": 1029,
     "metadata": {},
     "output_type": "execute_result"
    }
   ],
   "source": [
    "df.song.value_counts()"
   ]
  },
  {
   "cell_type": "code",
   "execution_count": 1030,
   "metadata": {
    "scrolled": true
   },
   "outputs": [],
   "source": [
    "df_result = df.song.value_counts().reset_index()\n",
    "\n",
    "result = df_result.at[0, \"index\"]"
   ]
  },
  {
   "cell_type": "code",
   "execution_count": 1031,
   "metadata": {
    "scrolled": true
   },
   "outputs": [
    {
     "data": {
      "text/plain": [
       "'Home Sweet Home'"
      ]
     },
     "execution_count": 1031,
     "metadata": {},
     "output_type": "execute_result"
    }
   ],
   "source": [
    "result"
   ]
  },
  {
   "cell_type": "markdown",
   "metadata": {},
   "source": [
    "# 要因をみてみる"
   ]
  },
  {
   "cell_type": "code",
   "execution_count": 1032,
   "metadata": {},
   "outputs": [],
   "source": [
    "df_save = df.copy()"
   ]
  },
  {
   "cell_type": "code",
   "execution_count": 1033,
   "metadata": {},
   "outputs": [],
   "source": [
    "df = df_save.copy()"
   ]
  },
  {
   "cell_type": "code",
   "execution_count": 1034,
   "metadata": {},
   "outputs": [],
   "source": [
    "df = df.drop_duplicates(subset=\"id\")"
   ]
  },
  {
   "cell_type": "code",
   "execution_count": 1035,
   "metadata": {},
   "outputs": [],
   "source": [
    "df = df.sort_values(\"score\", ascending=False)"
   ]
  },
  {
   "cell_type": "code",
   "execution_count": 1036,
   "metadata": {
    "scrolled": true
   },
   "outputs": [
    {
     "data": {
      "text/plain": [
       "'こんな時間にずっとクラップダンスを踊り続けてとても疲れました これからイベントまでに毎日やってがんばります🤱 今日のご飯はこれでした '"
      ]
     },
     "execution_count": 1036,
     "metadata": {},
     "output_type": "execute_result"
    }
   ],
   "source": [
    "df[df.song == result].reset_index(drop=True).at[0, \"tweet\"]"
   ]
  },
  {
   "cell_type": "code",
   "execution_count": 1037,
   "metadata": {
    "scrolled": true
   },
   "outputs": [
    {
     "data": {
      "text/html": [
       "<div>\n",
       "<style scoped>\n",
       "    .dataframe tbody tr th:only-of-type {\n",
       "        vertical-align: middle;\n",
       "    }\n",
       "\n",
       "    .dataframe tbody tr th {\n",
       "        vertical-align: top;\n",
       "    }\n",
       "\n",
       "    .dataframe thead th {\n",
       "        text-align: right;\n",
       "    }\n",
       "</style>\n",
       "<table border=\"1\" class=\"dataframe\">\n",
       "  <thead>\n",
       "    <tr style=\"text-align: right;\">\n",
       "      <th></th>\n",
       "      <th>index</th>\n",
       "      <th>song</th>\n",
       "    </tr>\n",
       "  </thead>\n",
       "  <tbody>\n",
       "    <tr>\n",
       "      <td>0</td>\n",
       "      <td>Home Sweet Home</td>\n",
       "      <td>0.259740</td>\n",
       "    </tr>\n",
       "    <tr>\n",
       "      <td>1</td>\n",
       "      <td>ガチで恋するお前らへ</td>\n",
       "      <td>0.142857</td>\n",
       "    </tr>\n",
       "    <tr>\n",
       "      <td>2</td>\n",
       "      <td>Hack you</td>\n",
       "      <td>0.129870</td>\n",
       "    </tr>\n",
       "    <tr>\n",
       "      <td>3</td>\n",
       "      <td>くいしんぼハッカー</td>\n",
       "      <td>0.129870</td>\n",
       "    </tr>\n",
       "    <tr>\n",
       "      <td>4</td>\n",
       "      <td>Daydream</td>\n",
       "      <td>0.103896</td>\n",
       "    </tr>\n",
       "    <tr>\n",
       "      <td>5</td>\n",
       "      <td>Chocolate Adventure</td>\n",
       "      <td>0.090909</td>\n",
       "    </tr>\n",
       "    <tr>\n",
       "      <td>6</td>\n",
       "      <td>Night Sky</td>\n",
       "      <td>0.077922</td>\n",
       "    </tr>\n",
       "    <tr>\n",
       "      <td>7</td>\n",
       "      <td>From Zero</td>\n",
       "      <td>0.064935</td>\n",
       "    </tr>\n",
       "  </tbody>\n",
       "</table>\n",
       "</div>"
      ],
      "text/plain": [
       "                 index      song\n",
       "0      Home Sweet Home  0.259740\n",
       "1           ガチで恋するお前らへ  0.142857\n",
       "2             Hack you  0.129870\n",
       "3            くいしんぼハッカー  0.129870\n",
       "4             Daydream  0.103896\n",
       "5  Chocolate Adventure  0.090909\n",
       "6            Night Sky  0.077922\n",
       "7            From Zero  0.064935"
      ]
     },
     "execution_count": 1037,
     "metadata": {},
     "output_type": "execute_result"
    }
   ],
   "source": [
    "df.song.value_counts(normalize=True).reset_index()"
   ]
  },
  {
   "cell_type": "code",
   "execution_count": 1038,
   "metadata": {},
   "outputs": [],
   "source": [
    "# x, y ... pandas.series\n",
    "\n",
    "def rader_plot(x, y):\n",
    "    pi = 3.1415\n",
    "    \n",
    "    # number of variable\n",
    "    plt.figure(figsize=(8,8))\n",
    "\n",
    "    categories=x.values.tolist()\n",
    "    N = len(categories)\n",
    "\n",
    "    # We are going to plot the first line of the data frame.\n",
    "    # But we need to repeat the first value to close the circular graph:\n",
    "    values = [s for s in y.values.tolist()]\n",
    "\n",
    "    # What will be the angle of each axis in the plot? (we divide the plot / number of variable)\n",
    "    angles = [n / float(N) * 2 * pi for n in range(N)]\n",
    "\n",
    "\n",
    "    # Initialise the spider plot\n",
    "    ax = plt.subplot(111, polar=True)\n",
    "\n",
    "    # Draw one axe per variable + add labels labels yet\n",
    "    plt.xticks(angles, categories, color='grey', size=25)\n",
    "\n",
    "    # Draw ylabels\n",
    "    ax.set_rlabel_position(0)\n",
    "    plt.yticks([0.25, 0.5, 0.75, 1], [\"25%\",\"50%\",\"75%\",\"100%\"], color=\"grey\", size=7)\n",
    "    plt.ylim(0,1)\n",
    "    \n",
    "    angles.append(angles[0])\n",
    "    values.append(values[0])\n",
    "\n",
    "    # Plot data\n",
    "    ax.plot(angles, values, linewidth=1, linestyle='solid')\n",
    "\n",
    "    # Fill area\n",
    "    ax.fill(angles, values, 'b', alpha=0.1)"
   ]
  },
  {
   "cell_type": "code",
   "execution_count": 1039,
   "metadata": {},
   "outputs": [
    {
     "data": {
      "image/png": "[encoded data removed]",
      "text/plain": [
       "<Figure size 576x576 with 1 Axes>"
      ]
     },
     "metadata": {
      "needs_background": "dark"
     },
     "output_type": "display_data"
    }
   ],
   "source": [
    "##多数決で決める\n",
    "df_score = df.song.value_counts(normalize=True).reset_index()\n",
    "df_score.song = df_score.song / max(df_score.song)\n",
    "df_score = df_score.sort_values(\"index\")\n",
    "rader_plot(df_score[\"index\"], df_score[\"song\"])"
   ]
  },
  {
   "cell_type": "code",
   "execution_count": 1040,
   "metadata": {},
   "outputs": [
    {
     "data": {
      "text/html": [
       "<div>\n",
       "<style scoped>\n",
       "    .dataframe tbody tr th:only-of-type {\n",
       "        vertical-align: middle;\n",
       "    }\n",
       "\n",
       "    .dataframe tbody tr th {\n",
       "        vertical-align: top;\n",
       "    }\n",
       "\n",
       "    .dataframe thead th {\n",
       "        text-align: right;\n",
       "    }\n",
       "</style>\n",
       "<table border=\"1\" class=\"dataframe\">\n",
       "  <thead>\n",
       "    <tr style=\"text-align: right;\">\n",
       "      <th></th>\n",
       "      <th>index</th>\n",
       "      <th>song</th>\n",
       "    </tr>\n",
       "  </thead>\n",
       "  <tbody>\n",
       "    <tr>\n",
       "      <td>5</td>\n",
       "      <td>Chocolate Adventure</td>\n",
       "      <td>0.35</td>\n",
       "    </tr>\n",
       "    <tr>\n",
       "      <td>4</td>\n",
       "      <td>Daydream</td>\n",
       "      <td>0.40</td>\n",
       "    </tr>\n",
       "    <tr>\n",
       "      <td>7</td>\n",
       "      <td>From Zero</td>\n",
       "      <td>0.25</td>\n",
       "    </tr>\n",
       "    <tr>\n",
       "      <td>2</td>\n",
       "      <td>Hack you</td>\n",
       "      <td>0.50</td>\n",
       "    </tr>\n",
       "    <tr>\n",
       "      <td>0</td>\n",
       "      <td>Home Sweet Home</td>\n",
       "      <td>1.00</td>\n",
       "    </tr>\n",
       "    <tr>\n",
       "      <td>6</td>\n",
       "      <td>Night Sky</td>\n",
       "      <td>0.30</td>\n",
       "    </tr>\n",
       "    <tr>\n",
       "      <td>3</td>\n",
       "      <td>くいしんぼハッカー</td>\n",
       "      <td>0.50</td>\n",
       "    </tr>\n",
       "    <tr>\n",
       "      <td>1</td>\n",
       "      <td>ガチで恋するお前らへ</td>\n",
       "      <td>0.55</td>\n",
       "    </tr>\n",
       "  </tbody>\n",
       "</table>\n",
       "</div>"
      ],
      "text/plain": [
       "                 index  song\n",
       "5  Chocolate Adventure  0.35\n",
       "4             Daydream  0.40\n",
       "7            From Zero  0.25\n",
       "2             Hack you  0.50\n",
       "0      Home Sweet Home  1.00\n",
       "6            Night Sky  0.30\n",
       "3            くいしんぼハッカー  0.50\n",
       "1           ガチで恋するお前らへ  0.55"
      ]
     },
     "execution_count": 1040,
     "metadata": {},
     "output_type": "execute_result"
    }
   ],
   "source": [
    "df_score"
   ]
  },
  {
   "cell_type": "code",
   "execution_count": 1041,
   "metadata": {
    "scrolled": false
   },
   "outputs": [
    {
     "data": {
      "image/png": "[encoded data removed]",
      "text/plain": [
       "<Figure size 576x576 with 1 Axes>"
      ]
     },
     "metadata": {
      "needs_background": "dark"
     },
     "output_type": "display_data"
    }
   ],
   "source": [
    "##groupby mean\n",
    "from sklearn import preprocessing\n",
    "\n",
    "df_score = df.groupby('song').mean().reset_index()\n",
    "df_score[\"score_std\"] = preprocessing.minmax_scale(df_score.score)\n",
    "rader_plot(df_score[\"song\"], df_score[\"score_std\"])"
   ]
  },
  {
   "cell_type": "code",
   "execution_count": 1042,
   "metadata": {},
   "outputs": [],
   "source": [
    "from matplotlib import rcParams    \n",
    "rcParams['font.family']= \"MS Gothic\""
   ]
  },
  {
   "cell_type": "code",
   "execution_count": 1043,
   "metadata": {},
   "outputs": [
    {
     "data": {
      "text/plain": [
       "0    0.705960\n",
       "1    0.794423\n",
       "2    0.748919\n",
       "3    0.693864\n",
       "4    0.748354\n",
       "5    0.689773\n",
       "6    0.792482\n",
       "7    0.718771\n",
       "Name: score, dtype: float64"
      ]
     },
     "execution_count": 1043,
     "metadata": {},
     "output_type": "execute_result"
    }
   ],
   "source": [
    "df_score[\"score\"]"
   ]
  },
  {
   "cell_type": "code",
   "execution_count": null,
   "metadata": {},
   "outputs": [],
   "source": []
  },
  {
   "cell_type": "code",
   "execution_count": 1044,
   "metadata": {},
   "outputs": [
    {
     "ename": "KeyError",
     "evalue": "'index'",
     "output_type": "error",
     "traceback": [
      "\u001b[1;31m---------------------------------------------------------------------------\u001b[0m",
      "\u001b[1;31mKeyError\u001b[0m                                  Traceback (most recent call last)",
      "\u001b[1;32mc:\\users\\sera\\appdata\\local\\programs\\python\\python37\\lib\\site-packages\\pandas\\core\\indexes\\base.py\u001b[0m in \u001b[0;36mget_loc\u001b[1;34m(self, key, method, tolerance)\u001b[0m\n\u001b[0;32m   2896\u001b[0m             \u001b[1;32mtry\u001b[0m\u001b[1;33m:\u001b[0m\u001b[1;33m\u001b[0m\u001b[1;33m\u001b[0m\u001b[0m\n\u001b[1;32m-> 2897\u001b[1;33m                 \u001b[1;32mreturn\u001b[0m \u001b[0mself\u001b[0m\u001b[1;33m.\u001b[0m\u001b[0m_engine\u001b[0m\u001b[1;33m.\u001b[0m\u001b[0mget_loc\u001b[0m\u001b[1;33m(\u001b[0m\u001b[0mkey\u001b[0m\u001b[1;33m)\u001b[0m\u001b[1;33m\u001b[0m\u001b[1;33m\u001b[0m\u001b[0m\n\u001b[0m\u001b[0;32m   2898\u001b[0m             \u001b[1;32mexcept\u001b[0m \u001b[0mKeyError\u001b[0m\u001b[1;33m:\u001b[0m\u001b[1;33m\u001b[0m\u001b[1;33m\u001b[0m\u001b[0m\n",
      "\u001b[1;32mpandas\\_libs\\index.pyx\u001b[0m in \u001b[0;36mpandas._libs.index.IndexEngine.get_loc\u001b[1;34m()\u001b[0m\n",
      "\u001b[1;32mpandas\\_libs\\index.pyx\u001b[0m in \u001b[0;36mpandas._libs.index.IndexEngine.get_loc\u001b[1;34m()\u001b[0m\n",
      "\u001b[1;32mpandas\\_libs\\hashtable_class_helper.pxi\u001b[0m in \u001b[0;36mpandas._libs.hashtable.PyObjectHashTable.get_item\u001b[1;34m()\u001b[0m\n",
      "\u001b[1;32mpandas\\_libs\\hashtable_class_helper.pxi\u001b[0m in \u001b[0;36mpandas._libs.hashtable.PyObjectHashTable.get_item\u001b[1;34m()\u001b[0m\n",
      "\u001b[1;31mKeyError\u001b[0m: 'index'",
      "\nDuring handling of the above exception, another exception occurred:\n",
      "\u001b[1;31mKeyError\u001b[0m                                  Traceback (most recent call last)",
      "\u001b[1;32m<ipython-input-1044-bb3800093720>\u001b[0m in \u001b[0;36m<module>\u001b[1;34m\u001b[0m\n\u001b[1;32m----> 1\u001b[1;33m \u001b[0mrader_plot\u001b[0m\u001b[1;33m(\u001b[0m\u001b[0mdf_score\u001b[0m\u001b[1;33m[\u001b[0m\u001b[1;34m\"index\"\u001b[0m\u001b[1;33m]\u001b[0m\u001b[1;33m,\u001b[0m \u001b[0mdf_score\u001b[0m\u001b[1;33m[\u001b[0m\u001b[1;34m\"song\"\u001b[0m\u001b[1;33m]\u001b[0m\u001b[1;33m)\u001b[0m\u001b[1;33m\u001b[0m\u001b[1;33m\u001b[0m\u001b[0m\n\u001b[0m",
      "\u001b[1;32mc:\\users\\sera\\appdata\\local\\programs\\python\\python37\\lib\\site-packages\\pandas\\core\\frame.py\u001b[0m in \u001b[0;36m__getitem__\u001b[1;34m(self, key)\u001b[0m\n\u001b[0;32m   2978\u001b[0m             \u001b[1;32mif\u001b[0m \u001b[0mself\u001b[0m\u001b[1;33m.\u001b[0m\u001b[0mcolumns\u001b[0m\u001b[1;33m.\u001b[0m\u001b[0mnlevels\u001b[0m \u001b[1;33m>\u001b[0m \u001b[1;36m1\u001b[0m\u001b[1;33m:\u001b[0m\u001b[1;33m\u001b[0m\u001b[1;33m\u001b[0m\u001b[0m\n\u001b[0;32m   2979\u001b[0m                 \u001b[1;32mreturn\u001b[0m \u001b[0mself\u001b[0m\u001b[1;33m.\u001b[0m\u001b[0m_getitem_multilevel\u001b[0m\u001b[1;33m(\u001b[0m\u001b[0mkey\u001b[0m\u001b[1;33m)\u001b[0m\u001b[1;33m\u001b[0m\u001b[1;33m\u001b[0m\u001b[0m\n\u001b[1;32m-> 2980\u001b[1;33m             \u001b[0mindexer\u001b[0m \u001b[1;33m=\u001b[0m \u001b[0mself\u001b[0m\u001b[1;33m.\u001b[0m\u001b[0mcolumns\u001b[0m\u001b[1;33m.\u001b[0m\u001b[0mget_loc\u001b[0m\u001b[1;33m(\u001b[0m\u001b[0mkey\u001b[0m\u001b[1;33m)\u001b[0m\u001b[1;33m\u001b[0m\u001b[1;33m\u001b[0m\u001b[0m\n\u001b[0m\u001b[0;32m   2981\u001b[0m             \u001b[1;32mif\u001b[0m \u001b[0mis_integer\u001b[0m\u001b[1;33m(\u001b[0m\u001b[0mindexer\u001b[0m\u001b[1;33m)\u001b[0m\u001b[1;33m:\u001b[0m\u001b[1;33m\u001b[0m\u001b[1;33m\u001b[0m\u001b[0m\n\u001b[0;32m   2982\u001b[0m                 \u001b[0mindexer\u001b[0m \u001b[1;33m=\u001b[0m \u001b[1;33m[\u001b[0m\u001b[0mindexer\u001b[0m\u001b[1;33m]\u001b[0m\u001b[1;33m\u001b[0m\u001b[1;33m\u001b[0m\u001b[0m\n",
      "\u001b[1;32mc:\\users\\sera\\appdata\\local\\programs\\python\\python37\\lib\\site-packages\\pandas\\core\\indexes\\base.py\u001b[0m in \u001b[0;36mget_loc\u001b[1;34m(self, key, method, tolerance)\u001b[0m\n\u001b[0;32m   2897\u001b[0m                 \u001b[1;32mreturn\u001b[0m \u001b[0mself\u001b[0m\u001b[1;33m.\u001b[0m\u001b[0m_engine\u001b[0m\u001b[1;33m.\u001b[0m\u001b[0mget_loc\u001b[0m\u001b[1;33m(\u001b[0m\u001b[0mkey\u001b[0m\u001b[1;33m)\u001b[0m\u001b[1;33m\u001b[0m\u001b[1;33m\u001b[0m\u001b[0m\n\u001b[0;32m   2898\u001b[0m             \u001b[1;32mexcept\u001b[0m \u001b[0mKeyError\u001b[0m\u001b[1;33m:\u001b[0m\u001b[1;33m\u001b[0m\u001b[1;33m\u001b[0m\u001b[0m\n\u001b[1;32m-> 2899\u001b[1;33m                 \u001b[1;32mreturn\u001b[0m \u001b[0mself\u001b[0m\u001b[1;33m.\u001b[0m\u001b[0m_engine\u001b[0m\u001b[1;33m.\u001b[0m\u001b[0mget_loc\u001b[0m\u001b[1;33m(\u001b[0m\u001b[0mself\u001b[0m\u001b[1;33m.\u001b[0m\u001b[0m_maybe_cast_indexer\u001b[0m\u001b[1;33m(\u001b[0m\u001b[0mkey\u001b[0m\u001b[1;33m)\u001b[0m\u001b[1;33m)\u001b[0m\u001b[1;33m\u001b[0m\u001b[1;33m\u001b[0m\u001b[0m\n\u001b[0m\u001b[0;32m   2900\u001b[0m         \u001b[0mindexer\u001b[0m \u001b[1;33m=\u001b[0m \u001b[0mself\u001b[0m\u001b[1;33m.\u001b[0m\u001b[0mget_indexer\u001b[0m\u001b[1;33m(\u001b[0m\u001b[1;33m[\u001b[0m\u001b[0mkey\u001b[0m\u001b[1;33m]\u001b[0m\u001b[1;33m,\u001b[0m \u001b[0mmethod\u001b[0m\u001b[1;33m=\u001b[0m\u001b[0mmethod\u001b[0m\u001b[1;33m,\u001b[0m \u001b[0mtolerance\u001b[0m\u001b[1;33m=\u001b[0m\u001b[0mtolerance\u001b[0m\u001b[1;33m)\u001b[0m\u001b[1;33m\u001b[0m\u001b[1;33m\u001b[0m\u001b[0m\n\u001b[0;32m   2901\u001b[0m         \u001b[1;32mif\u001b[0m \u001b[0mindexer\u001b[0m\u001b[1;33m.\u001b[0m\u001b[0mndim\u001b[0m \u001b[1;33m>\u001b[0m \u001b[1;36m1\u001b[0m \u001b[1;32mor\u001b[0m \u001b[0mindexer\u001b[0m\u001b[1;33m.\u001b[0m\u001b[0msize\u001b[0m \u001b[1;33m>\u001b[0m \u001b[1;36m1\u001b[0m\u001b[1;33m:\u001b[0m\u001b[1;33m\u001b[0m\u001b[1;33m\u001b[0m\u001b[0m\n",
      "\u001b[1;32mpandas\\_libs\\index.pyx\u001b[0m in \u001b[0;36mpandas._libs.index.IndexEngine.get_loc\u001b[1;34m()\u001b[0m\n",
      "\u001b[1;32mpandas\\_libs\\index.pyx\u001b[0m in \u001b[0;36mpandas._libs.index.IndexEngine.get_loc\u001b[1;34m()\u001b[0m\n",
      "\u001b[1;32mpandas\\_libs\\hashtable_class_helper.pxi\u001b[0m in \u001b[0;36mpandas._libs.hashtable.PyObjectHashTable.get_item\u001b[1;34m()\u001b[0m\n",
      "\u001b[1;32mpandas\\_libs\\hashtable_class_helper.pxi\u001b[0m in \u001b[0;36mpandas._libs.hashtable.PyObjectHashTable.get_item\u001b[1;34m()\u001b[0m\n",
      "\u001b[1;31mKeyError\u001b[0m: 'index'"
     ]
    }
   ],
   "source": [
    "rader_plot(df_score[\"index\"], df_score[\"song\"])"
   ]
  },
  {
   "cell_type": "markdown",
   "metadata": {},
   "source": [
    "# 曲"
   ]
  },
  {
   "cell_type": "code",
   "execution_count": null,
   "metadata": {},
   "outputs": [],
   "source": []
  },
  {
   "cell_type": "code",
   "execution_count": null,
   "metadata": {},
   "outputs": [],
   "source": []
  },
  {
   "cell_type": "markdown",
   "metadata": {},
   "source": [
    "# wordcloud"
   ]
  },
  {
   "cell_type": "code",
   "execution_count": null,
   "metadata": {},
   "outputs": [],
   "source": [
    "tweet_all = \"\"\n",
    "for index, row in df.iterrows():\n",
    "    tweet_all += row[df.columns.get_loc(\"tweet\")]"
   ]
  },
  {
   "cell_type": "code",
   "execution_count": null,
   "metadata": {},
   "outputs": [],
   "source": [
    "wordcloud = WordCloud(width=480, height=320)\n",
    "\n",
    "# テキストからワードクラウドを生成する。\n",
    "wordcloud.generate(tweet_all)\n",
    "\n",
    "# ファイルに保存する。\n",
    "wordcloud.to_file('wordcloud.png')\n",
    "\n",
    "# numpy 配列で取得する。\n",
    "img = wordcloud.to_array()\n",
    "plt.figure(figsize=(15,12))\n",
    "plt.imshow(wordcloud)\n",
    "plt.axis(\"off\")\n",
    "plt.show()"
   ]
  },
  {
   "cell_type": "markdown",
   "metadata": {},
   "source": [
    "# ひとまず可視化をしてみる"
   ]
  },
  {
   "cell_type": "code",
   "execution_count": null,
   "metadata": {},
   "outputs": [],
   "source": [
    "digits.vec.shape"
   ]
  },
  {
   "cell_type": "code",
   "execution_count": null,
   "metadata": {
    "scrolled": true
   },
   "outputs": [],
   "source": [
    "# import matplotlib.pyplot as plt\n",
    "# from sklearn import datasets\n",
    "# from sklearn.manifold import TSNE\n",
    "\n",
    "# digits = df_song\n",
    "\n",
    "# print(digits.vec.shape)\n",
    "# # (1797, 64)\n",
    "\n",
    "# print(digits.song_name.shape)\n",
    "# # (1797,)\n",
    "\n",
    "# X_reduced = TSNE(n_components=2, random_state=0).fit_transform(digits.vec)\n",
    "\n",
    "# print(X_reduced.shape)\n",
    "# # (1797, 2)\n",
    "\n",
    "# plt.scatter(X_reduced[:, 0], X_reduced[:, 1], c=digits.song_name)\n",
    "# plt.colorbar()\n",
    "# # <matplotlib.colorbar.Colorbar at 0x7ff21173ee90>"
   ]
  },
  {
   "cell_type": "code",
   "execution_count": null,
   "metadata": {},
   "outputs": [],
   "source": []
  },
  {
   "cell_type": "code",
   "execution_count": null,
   "metadata": {
    "scrolled": true
   },
   "outputs": [],
   "source": [
    "from sklearn.decomposition import PCA\n",
    "pca = PCA(n_components=2)\n",
    "\n",
    "vec_list = []\n",
    "for vecs in df.vec:\n",
    "    vec_list.append(vecs)\n",
    "df_vec = pd.DataFrame(vec_list)\n",
    "pca.fit(df_vec)\n",
    "\n",
    "# 分析結果を元にデータセットを主成分に変換する\n",
    "transformed = pca.fit_transform(vec_list)\n",
    "\n",
    "# 主成分をプロットする\n",
    "plt.subplot(1, 2, 2)\n",
    "plt.scatter(transformed[:, 0], transformed[:, 1])\n",
    "plt.title('principal component')\n",
    "plt.xlabel('pc1')\n",
    "plt.ylabel('pc2')\n",
    "\n",
    "# 主成分の次元ごとの寄与率を出力する\n",
    "print(pca.explained_variance_ratio_)\n",
    "\n",
    "# グラフを表示する\n",
    "plt.show()\n"
   ]
  },
  {
   "cell_type": "code",
   "execution_count": null,
   "metadata": {},
   "outputs": [],
   "source": [
    "vec_list"
   ]
  },
  {
   "cell_type": "code",
   "execution_count": null,
   "metadata": {},
   "outputs": [],
   "source": []
  }
 ],
 "metadata": {
  "kernelspec": {
   "display_name": "Python 3",
   "language": "python",
   "name": "python3"
  },
  "language_info": {
   "codemirror_mode": {
    "name": "ipython",
    "version": 3
   },
   "file_extension": ".py",
   "mimetype": "text/x-python",
   "name": "python",
   "nbconvert_exporter": "python",
   "pygments_lexer": "ipython3",
   "version": "3.7.2"
  }
 },
 "nbformat": 4,
 "nbformat_minor": 2
}
